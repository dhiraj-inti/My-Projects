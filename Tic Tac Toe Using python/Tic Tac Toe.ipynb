{
 "cells": [
  {
   "cell_type": "code",
   "execution_count": 1,
   "id": "bafbeb0c",
   "metadata": {},
   "outputs": [],
   "source": [
    "#1 - Create display board\n",
    "#2 - Take input from user (O or X)\n",
    "#3 - Fill the user value on the board\n",
    "#4 - Winning check\n",
    "#5 - if the spot is empty\n",
    "#6 - Deciding whose turn is first \n",
    "#7 - if the board is full\n",
    "#8 - ask if the player wants to play again\n",
    "#9 - initialise board\n",
    "#10 - Compile and play"
   ]
  },
  {
   "cell_type": "code",
   "execution_count": 2,
   "id": "2bd71c49",
   "metadata": {},
   "outputs": [],
   "source": [
    "from IPython.display import clear_output\n",
    "import random"
   ]
  },
  {
   "cell_type": "code",
   "execution_count": 3,
   "id": "74e65845",
   "metadata": {},
   "outputs": [],
   "source": [
    "#1 - Create display board\n",
    "\n",
    "def display(board):\n",
    "    clear_output()\n",
    "    for i in range(3):\n",
    "        print(board[3*i + 1] + '|' + board[3*i + 2] + '|' + board[3*i + 3])"
   ]
  },
  {
   "cell_type": "code",
   "execution_count": 4,
   "id": "9b0d3df6",
   "metadata": {},
   "outputs": [],
   "source": [
    "#2 - Take input from user (O or X)\n",
    "\n",
    "def TakeInput():\n",
    "    temp=\"\"\n",
    "    while not (temp == 'X' or temp == 'O'):\n",
    "        temp = input(\"Player 1: Enter your choice('O' or 'X'):\").upper()\n",
    "        \n",
    "    if(temp==\"O\"):\n",
    "        return \"O\",\"X\"\n",
    "    else:\n",
    "        return \"X\",\"O\""
   ]
  },
  {
   "cell_type": "code",
   "execution_count": 5,
   "id": "d4a53420",
   "metadata": {},
   "outputs": [],
   "source": [
    "#6 - Deciding whose turn is first \n",
    "\n",
    "def decideFirst():\n",
    "    x = random.randint(0,2)\n",
    "    return x"
   ]
  },
  {
   "cell_type": "code",
   "execution_count": 6,
   "id": "0a7f445a",
   "metadata": {},
   "outputs": [],
   "source": [
    "#8 - ask if the player wants to play again\n",
    "\n",
    "def quit():\n",
    "    temp = input(\"Want to quit?(y/n): \").lower()\n",
    "    if(temp.startswith('y')):\n",
    "        return True\n",
    "    else:\n",
    "        return False"
   ]
  },
  {
   "cell_type": "code",
   "execution_count": 7,
   "id": "52531fc8",
   "metadata": {},
   "outputs": [],
   "source": [
    "#5 - if the spot is empty\n",
    "\n",
    "def isSpotEmpty(position,board):\n",
    "    if(board[position]==' '):\n",
    "        return True\n",
    "    else:\n",
    "        return False"
   ]
  },
  {
   "cell_type": "code",
   "execution_count": 8,
   "id": "2180a983",
   "metadata": {},
   "outputs": [],
   "source": [
    "#3 - Fill the user value on the board\n",
    "\n",
    "def fillValues(value,position,board):\n",
    "    board[position]=value\n",
    "    return board"
   ]
  },
  {
   "cell_type": "code",
   "execution_count": 9,
   "id": "96680cc6",
   "metadata": {},
   "outputs": [],
   "source": [
    "#7 - if the board is full\n",
    "\n",
    "def isBoardFull(board):\n",
    "    \n",
    "    for i in range(1,10):\n",
    "        if(board[i]==' '):\n",
    "            return False\n",
    "            \n",
    "    return True"
   ]
  },
  {
   "cell_type": "code",
   "execution_count": 10,
   "id": "75528093",
   "metadata": {},
   "outputs": [],
   "source": [
    "#4 - Winning check\n",
    "\n",
    "def checkWinner(board):\n",
    "    \n",
    "    tup = (\"O\",\"X\")\n",
    "    \n",
    "    for val in tup:\n",
    "        if((board[7]==val and board[8]==val and board[9]==val) or (board[7]==val and board[4]==val and board[1]==val) or \n",
    "           (board[7]==val and board[5]==val and board[3]==val) or (board[4]==val and board[5]==val and board[6]==val) or\n",
    "           (board[8]==val and board[5]==val and board[2]==val) or (board[3]==val and board[2]==val and board[1]==val) or \n",
    "           (board[3]==val and board[6]==val and board[9]==val)):\n",
    "            return val\n",
    "    \n",
    "    return \" \""
   ]
  },
  {
   "cell_type": "code",
   "execution_count": 11,
   "id": "e8e1f87a",
   "metadata": {},
   "outputs": [],
   "source": [
    "#9 - initialise board\n",
    "\n",
    "def initialiseBoard(board):\n",
    "    for i in range(0,10):\n",
    "        board.append(\" \")\n",
    "        \n",
    "    return board    "
   ]
  },
  {
   "cell_type": "code",
   "execution_count": 12,
   "id": "d1caa342",
   "metadata": {},
   "outputs": [],
   "source": [
    "#10 - Input for position\n",
    "\n",
    "def inputPosition(board):\n",
    "    \n",
    "    position = int(input(\"Enter the position you want to mark(0-9): \"))\n",
    "    while (position>0 and position <10) and (not isSpotEmpty(position,board)):\n",
    "        print(\"Sorry, that position is already filled! Try again...\")\n",
    "        position = int(input(\"Enter the position you want to mark(0-9): \"))\n",
    "        \n",
    "    return position    \n"
   ]
  },
  {
   "cell_type": "code",
   "execution_count": 13,
   "id": "2a29a843",
   "metadata": {},
   "outputs": [],
   "source": [
    "#11 - Compile and play\n",
    "\n",
    "def play(board):\n",
    "    board = initialiseBoard(board)\n",
    "    display(board)\n",
    "    \n",
    "    first,second = TakeInput()\n",
    "    \n",
    "    switch = decideFirst()\n",
    "    if(switch==0):\n",
    "        print(\"Player 1 will play first!\")\n",
    "        marker=first\n",
    "    else:\n",
    "        print(\"Player 2 will play first!\")\n",
    "        marker=second\n",
    "    \n",
    "    \n",
    "    while isBoardFull(board)==False:\n",
    "        \n",
    "        if(switch==0):\n",
    "            print(\"Player 1: \",end=' ')\n",
    "            position = inputPosition(board)\n",
    "    \n",
    "        else:\n",
    "            print(\"Player 2: \",end=' ')\n",
    "            position = inputPosition(board)\n",
    "            \n",
    "        board = fillValues(marker,position,board)    \n",
    "        \n",
    "        if checkWinner(board)==\"O\" or checkWinner(board)==\"X\":\n",
    "            if switch==0:\n",
    "                display(board)\n",
    "                print(\"Player 1 won the game!!\")\n",
    "            else:\n",
    "                display(board)\n",
    "                print(\"Player 2 won the game!!\")\n",
    "            break \n",
    "        \n",
    "        display(board)\n",
    "        switch = 1 - switch\n",
    "        if (marker==\"O\"):\n",
    "            marker = \"X\"\n",
    "        else:\n",
    "            marker = \"O\"\n",
    "\n",
    "    \n",
    "    if isBoardFull(board) and checkWinner(board)==\" \":\n",
    "        print(\"It's a draw!!\")"
   ]
  },
  {
   "cell_type": "code",
   "execution_count": 14,
   "id": "c76ba0a2",
   "metadata": {},
   "outputs": [
    {
     "name": "stdout",
     "output_type": "stream",
     "text": [
      "O|O|X\n",
      "O|X| \n",
      "X| | \n",
      "Player 1 won the game!!\n",
      "Want to quit?(y/n): y\n",
      "Thank you for playing the game!!\n"
     ]
    }
   ],
   "source": [
    "#12 - main function\n",
    "\n",
    "if __name__ == '__main__':\n",
    "    board = []\n",
    "    play(board)\n",
    "\n",
    "    while not quit():\n",
    "        board = []\n",
    "        play(board)\n",
    "\n",
    "    print(\"Thank you for playing the game!!\")     "
   ]
  },
  {
   "cell_type": "code",
   "execution_count": null,
   "id": "d0302259",
   "metadata": {},
   "outputs": [],
   "source": []
  },
  {
   "cell_type": "code",
   "execution_count": null,
   "id": "68a51301",
   "metadata": {},
   "outputs": [],
   "source": []
  },
  {
   "cell_type": "code",
   "execution_count": null,
   "id": "70b0b281",
   "metadata": {},
   "outputs": [],
   "source": []
  }
 ],
 "metadata": {
  "kernelspec": {
   "display_name": "Python 3 (ipykernel)",
   "language": "python",
   "name": "python3"
  },
  "language_info": {
   "codemirror_mode": {
    "name": "ipython",
    "version": 3
   },
   "file_extension": ".py",
   "mimetype": "text/x-python",
   "name": "python",
   "nbconvert_exporter": "python",
   "pygments_lexer": "ipython3",
   "version": "3.8.12"
  }
 },
 "nbformat": 4,
 "nbformat_minor": 5
}
